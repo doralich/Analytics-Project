{
 "cells": [
  {
   "cell_type": "code",
   "execution_count": 2,
   "metadata": {},
   "outputs": [],
   "source": [
    "import pandas as pd\n",
    "import numpy as np"
   ]
  },
  {
   "cell_type": "code",
   "execution_count": 4,
   "metadata": {},
   "outputs": [],
   "source": [
    "lb = pd.read_csv('../data/London_Bridge.txt')"
   ]
  },
  {
   "cell_type": "code",
   "execution_count": 6,
   "metadata": {},
   "outputs": [
    {
     "data": {
      "text/html": [
       "<div>\n",
       "<style scoped>\n",
       "    .dataframe tbody tr th:only-of-type {\n",
       "        vertical-align: middle;\n",
       "    }\n",
       "\n",
       "    .dataframe tbody tr th {\n",
       "        vertical-align: top;\n",
       "    }\n",
       "\n",
       "    .dataframe thead th {\n",
       "        text-align: right;\n",
       "    }\n",
       "</style>\n",
       "<table border=\"1\" class=\"dataframe\">\n",
       "  <thead>\n",
       "    <tr style=\"text-align: right;\">\n",
       "      <th></th>\n",
       "      <th>Date and time</th>\n",
       "      <th>water level (m ODN)</th>\n",
       "      <th>flag</th>\n",
       "    </tr>\n",
       "  </thead>\n",
       "  <tbody>\n",
       "    <tr>\n",
       "      <th>0</th>\n",
       "      <td>01/05/1911 15:40:00</td>\n",
       "      <td>3.7130</td>\n",
       "      <td>1</td>\n",
       "    </tr>\n",
       "    <tr>\n",
       "      <th>1</th>\n",
       "      <td>02/05/1911 11:25:00</td>\n",
       "      <td>-2.9415</td>\n",
       "      <td>0</td>\n",
       "    </tr>\n",
       "    <tr>\n",
       "      <th>2</th>\n",
       "      <td>02/05/1911 16:05:00</td>\n",
       "      <td>3.3828</td>\n",
       "      <td>1</td>\n",
       "    </tr>\n",
       "    <tr>\n",
       "      <th>3</th>\n",
       "      <td>03/05/1911 11:50:00</td>\n",
       "      <td>-2.6367</td>\n",
       "      <td>0</td>\n",
       "    </tr>\n",
       "    <tr>\n",
       "      <th>4</th>\n",
       "      <td>03/05/1911 16:55:00</td>\n",
       "      <td>2.9256</td>\n",
       "      <td>1</td>\n",
       "    </tr>\n",
       "  </tbody>\n",
       "</table>\n",
       "</div>"
      ],
      "text/plain": [
       "         Date and time  water level (m ODN)   flag\n",
       "0  01/05/1911 15:40:00               3.7130      1\n",
       "1  02/05/1911 11:25:00              -2.9415      0\n",
       "2  02/05/1911 16:05:00               3.3828      1\n",
       "3  03/05/1911 11:50:00              -2.6367      0\n",
       "4  03/05/1911 16:55:00               2.9256      1"
      ]
     },
     "execution_count": 6,
     "metadata": {},
     "output_type": "execute_result"
    }
   ],
   "source": [
    "df = lb.iloc[:,0:3]\n",
    "df.head()"
   ]
  },
  {
   "cell_type": "code",
   "execution_count": 8,
   "metadata": {},
   "outputs": [
    {
     "name": "stderr",
     "output_type": "stream",
     "text": [
      "/var/folders/wj/b4h4w1f97bs9bhrqtx86sr4w0000gn/T/ipykernel_71558/3332637567.py:1: FutureWarning: DataFrame.set_axis 'inplace' keyword is deprecated and will be removed in a future version. Use `obj = obj.set_axis(..., copy=False)` instead\n",
      "  df.set_axis(['datetime','water_level','is_high_tide'],axis='columns',inplace=True)\n"
     ]
    }
   ],
   "source": [
    "df.set_axis(['datetime','water_level','is_high_tide'],axis='columns',inplace=True)"
   ]
  },
  {
   "cell_type": "code",
   "execution_count": 13,
   "metadata": {},
   "outputs": [
    {
     "data": {
      "text/html": [
       "<div>\n",
       "<style scoped>\n",
       "    .dataframe tbody tr th:only-of-type {\n",
       "        vertical-align: middle;\n",
       "    }\n",
       "\n",
       "    .dataframe tbody tr th {\n",
       "        vertical-align: top;\n",
       "    }\n",
       "\n",
       "    .dataframe thead th {\n",
       "        text-align: right;\n",
       "    }\n",
       "</style>\n",
       "<table border=\"1\" class=\"dataframe\">\n",
       "  <thead>\n",
       "    <tr style=\"text-align: right;\">\n",
       "      <th></th>\n",
       "      <th>datetime</th>\n",
       "      <th>water_level</th>\n",
       "      <th>is_high_tide</th>\n",
       "    </tr>\n",
       "  </thead>\n",
       "  <tbody>\n",
       "    <tr>\n",
       "      <th>0</th>\n",
       "      <td>1911-01-05 15:40:00</td>\n",
       "      <td>3.7130</td>\n",
       "      <td>1</td>\n",
       "    </tr>\n",
       "    <tr>\n",
       "      <th>1</th>\n",
       "      <td>1911-02-05 11:25:00</td>\n",
       "      <td>-2.9415</td>\n",
       "      <td>0</td>\n",
       "    </tr>\n",
       "    <tr>\n",
       "      <th>2</th>\n",
       "      <td>1911-02-05 16:05:00</td>\n",
       "      <td>3.3828</td>\n",
       "      <td>1</td>\n",
       "    </tr>\n",
       "    <tr>\n",
       "      <th>3</th>\n",
       "      <td>1911-03-05 11:50:00</td>\n",
       "      <td>-2.6367</td>\n",
       "      <td>0</td>\n",
       "    </tr>\n",
       "    <tr>\n",
       "      <th>4</th>\n",
       "      <td>1911-03-05 16:55:00</td>\n",
       "      <td>2.9256</td>\n",
       "      <td>1</td>\n",
       "    </tr>\n",
       "  </tbody>\n",
       "</table>\n",
       "</div>"
      ],
      "text/plain": [
       "             datetime water_level  is_high_tide\n",
       "0 1911-01-05 15:40:00      3.7130             1\n",
       "1 1911-02-05 11:25:00     -2.9415             0\n",
       "2 1911-02-05 16:05:00      3.3828             1\n",
       "3 1911-03-05 11:50:00     -2.6367             0\n",
       "4 1911-03-05 16:55:00      2.9256             1"
      ]
     },
     "execution_count": 13,
     "metadata": {},
     "output_type": "execute_result"
    }
   ],
   "source": [
    "df.head()"
   ]
  },
  {
   "cell_type": "code",
   "execution_count": 12,
   "metadata": {},
   "outputs": [
    {
     "data": {
      "text/plain": [
       "datetime        datetime64[ns]\n",
       "water_level             object\n",
       "is_high_tide             int64\n",
       "dtype: object"
      ]
     },
     "execution_count": 12,
     "metadata": {},
     "output_type": "execute_result"
    }
   ],
   "source": [
    "df.dtypes"
   ]
  },
  {
   "cell_type": "code",
   "execution_count": 14,
   "metadata": {},
   "outputs": [],
   "source": [
    "df['datetime'] = pd.to_datetime(df['datetime'])\n",
    "df['water_level'] = df['water_level'].astype('float')"
   ]
  },
  {
   "cell_type": "code",
   "execution_count": 21,
   "metadata": {},
   "outputs": [],
   "source": [
    "df['month'] = df.datetime.apply(lambda x: x.month)\n",
    "df['year'] = df.datetime.apply(lambda x: x.year)\n",
    "\n",
    "# Create extra month and year columns for easy access\n",
    "#df['month'] = df['datetime'].dt.month\n",
    "#df['year'] = df['datetime'].dt.year"
   ]
  },
  {
   "cell_type": "code",
   "execution_count": 22,
   "metadata": {},
   "outputs": [
    {
     "data": {
      "text/html": [
       "<div>\n",
       "<style scoped>\n",
       "    .dataframe tbody tr th:only-of-type {\n",
       "        vertical-align: middle;\n",
       "    }\n",
       "\n",
       "    .dataframe tbody tr th {\n",
       "        vertical-align: top;\n",
       "    }\n",
       "\n",
       "    .dataframe thead th {\n",
       "        text-align: right;\n",
       "    }\n",
       "</style>\n",
       "<table border=\"1\" class=\"dataframe\">\n",
       "  <thead>\n",
       "    <tr style=\"text-align: right;\">\n",
       "      <th></th>\n",
       "      <th>datetime</th>\n",
       "      <th>water_level</th>\n",
       "      <th>is_high_tide</th>\n",
       "      <th>month</th>\n",
       "      <th>year</th>\n",
       "    </tr>\n",
       "  </thead>\n",
       "  <tbody>\n",
       "    <tr>\n",
       "      <th>0</th>\n",
       "      <td>1911-01-05 15:40:00</td>\n",
       "      <td>3.7130</td>\n",
       "      <td>1</td>\n",
       "      <td>1</td>\n",
       "      <td>1911</td>\n",
       "    </tr>\n",
       "    <tr>\n",
       "      <th>1</th>\n",
       "      <td>1911-02-05 11:25:00</td>\n",
       "      <td>-2.9415</td>\n",
       "      <td>0</td>\n",
       "      <td>2</td>\n",
       "      <td>1911</td>\n",
       "    </tr>\n",
       "    <tr>\n",
       "      <th>2</th>\n",
       "      <td>1911-02-05 16:05:00</td>\n",
       "      <td>3.3828</td>\n",
       "      <td>1</td>\n",
       "      <td>2</td>\n",
       "      <td>1911</td>\n",
       "    </tr>\n",
       "    <tr>\n",
       "      <th>3</th>\n",
       "      <td>1911-03-05 11:50:00</td>\n",
       "      <td>-2.6367</td>\n",
       "      <td>0</td>\n",
       "      <td>3</td>\n",
       "      <td>1911</td>\n",
       "    </tr>\n",
       "    <tr>\n",
       "      <th>4</th>\n",
       "      <td>1911-03-05 16:55:00</td>\n",
       "      <td>2.9256</td>\n",
       "      <td>1</td>\n",
       "      <td>3</td>\n",
       "      <td>1911</td>\n",
       "    </tr>\n",
       "  </tbody>\n",
       "</table>\n",
       "</div>"
      ],
      "text/plain": [
       "             datetime  water_level  is_high_tide  month  year\n",
       "0 1911-01-05 15:40:00       3.7130             1      1  1911\n",
       "1 1911-02-05 11:25:00      -2.9415             0      2  1911\n",
       "2 1911-02-05 16:05:00       3.3828             1      2  1911\n",
       "3 1911-03-05 11:50:00      -2.6367             0      3  1911\n",
       "4 1911-03-05 16:55:00       2.9256             1      3  1911"
      ]
     },
     "execution_count": 22,
     "metadata": {},
     "output_type": "execute_result"
    }
   ],
   "source": [
    "df.head()"
   ]
  },
  {
   "cell_type": "code",
   "execution_count": 31,
   "metadata": {},
   "outputs": [],
   "source": [
    "# Filter df for high and low tide\n",
    "tide_high = df.query('is_high_tide==1')['water_level']\n",
    "tide_low = df.query('is_high_tide==0')['water_level']\n",
    "#df.iloc[np.where(df['is_high_tide']==1)]['water_level']"
   ]
  },
  {
   "cell_type": "code",
   "execution_count": 36,
   "metadata": {},
   "outputs": [
    {
     "data": {
      "text/plain": [
       "{'tide_high': {'mean': 3.32, 'median': 3.35, 'interquartile_range': 0.74},\n",
       " 'tide_low': {'mean': -2.38, 'median': -2.41, 'interquartile_range': 0.54}}"
      ]
     },
     "execution_count": 36,
     "metadata": {},
     "output_type": "execute_result"
    }
   ],
   "source": [
    "# Create summary statistics\n",
    "distributions = {\n",
    "    'tide_high':{'mean':round(tide_high.mean(),2),'median':round(tide_high.median(),2),\n",
    "                'interquartile_range':round((tide_high.quantile(0.75)-tide_high.quantile(0.25)),2)},\n",
    "    \n",
    "    'tide_low':{'mean':round(tide_low.mean(),2),'median':round(tide_low.median(),2),\n",
    "                'interquartile_range':round((tide_low.quantile(0.75)-tide_low.quantile(0.25)),2)}\n",
    "\n",
    "}\n",
    "distributions"
   ]
  },
  {
   "cell_type": "code",
   "execution_count": 44,
   "metadata": {},
   "outputs": [
    {
     "data": {
      "text/plain": [
       "year\n",
       "1911    244\n",
       "1912    557\n",
       "1913    669\n",
       "1914    687\n",
       "1915    666\n",
       "       ... \n",
       "1991    706\n",
       "1992    707\n",
       "1993    699\n",
       "1994    705\n",
       "1995    705\n",
       "Name: water_level, Length: 85, dtype: int64"
      ]
     },
     "execution_count": 44,
     "metadata": {},
     "output_type": "execute_result"
    }
   ],
   "source": [
    "all_high_days = df.query('is_high_tide==1').groupby('year').count()['water_level']\n",
    "all_high_days"
   ]
  },
  {
   "cell_type": "code",
   "execution_count": 50,
   "metadata": {},
   "outputs": [
    {
     "data": {
      "text/plain": [
       "year\n",
       "1911      8\n",
       "1912     71\n",
       "1913    125\n",
       "1914    111\n",
       "1915    146\n",
       "       ... \n",
       "1991    178\n",
       "1992    188\n",
       "1993    222\n",
       "1994    252\n",
       "1995    229\n",
       "Name: water_level, Length: 85, dtype: int64"
      ]
     },
     "execution_count": 50,
     "metadata": {},
     "output_type": "execute_result"
    }
   ],
   "source": [
    "high_75_days = df.loc[df.water_level>tide_high.quantile(0.75)].groupby('year').count()['water_level']\n",
    "high_75_days"
   ]
  },
  {
   "cell_type": "code",
   "execution_count": 57,
   "metadata": {},
   "outputs": [
    {
     "data": {
      "text/html": [
       "<div>\n",
       "<style scoped>\n",
       "    .dataframe tbody tr th:only-of-type {\n",
       "        vertical-align: middle;\n",
       "    }\n",
       "\n",
       "    .dataframe tbody tr th {\n",
       "        vertical-align: top;\n",
       "    }\n",
       "\n",
       "    .dataframe thead th {\n",
       "        text-align: right;\n",
       "    }\n",
       "</style>\n",
       "<table border=\"1\" class=\"dataframe\">\n",
       "  <thead>\n",
       "    <tr style=\"text-align: right;\">\n",
       "      <th></th>\n",
       "      <th>year</th>\n",
       "      <th>water_level</th>\n",
       "    </tr>\n",
       "  </thead>\n",
       "  <tbody>\n",
       "    <tr>\n",
       "      <th>0</th>\n",
       "      <td>1911</td>\n",
       "      <td>0.032787</td>\n",
       "    </tr>\n",
       "    <tr>\n",
       "      <th>1</th>\n",
       "      <td>1912</td>\n",
       "      <td>0.127469</td>\n",
       "    </tr>\n",
       "    <tr>\n",
       "      <th>2</th>\n",
       "      <td>1913</td>\n",
       "      <td>0.186846</td>\n",
       "    </tr>\n",
       "    <tr>\n",
       "      <th>3</th>\n",
       "      <td>1914</td>\n",
       "      <td>0.161572</td>\n",
       "    </tr>\n",
       "    <tr>\n",
       "      <th>4</th>\n",
       "      <td>1915</td>\n",
       "      <td>0.219219</td>\n",
       "    </tr>\n",
       "    <tr>\n",
       "      <th>...</th>\n",
       "      <td>...</td>\n",
       "      <td>...</td>\n",
       "    </tr>\n",
       "    <tr>\n",
       "      <th>80</th>\n",
       "      <td>1991</td>\n",
       "      <td>0.252125</td>\n",
       "    </tr>\n",
       "    <tr>\n",
       "      <th>81</th>\n",
       "      <td>1992</td>\n",
       "      <td>0.265912</td>\n",
       "    </tr>\n",
       "    <tr>\n",
       "      <th>82</th>\n",
       "      <td>1993</td>\n",
       "      <td>0.317597</td>\n",
       "    </tr>\n",
       "    <tr>\n",
       "      <th>83</th>\n",
       "      <td>1994</td>\n",
       "      <td>0.357447</td>\n",
       "    </tr>\n",
       "    <tr>\n",
       "      <th>84</th>\n",
       "      <td>1995</td>\n",
       "      <td>0.324823</td>\n",
       "    </tr>\n",
       "  </tbody>\n",
       "</table>\n",
       "<p>85 rows × 2 columns</p>\n",
       "</div>"
      ],
      "text/plain": [
       "    year  water_level\n",
       "0   1911     0.032787\n",
       "1   1912     0.127469\n",
       "2   1913     0.186846\n",
       "3   1914     0.161572\n",
       "4   1915     0.219219\n",
       "..   ...          ...\n",
       "80  1991     0.252125\n",
       "81  1992     0.265912\n",
       "82  1993     0.317597\n",
       "83  1994     0.357447\n",
       "84  1995     0.324823\n",
       "\n",
       "[85 rows x 2 columns]"
      ]
     },
     "execution_count": 57,
     "metadata": {},
     "output_type": "execute_result"
    }
   ],
   "source": [
    "\n",
    "high_ratio = (high_75_days/all_high_days).reset_index()\n"
   ]
  },
  {
   "cell_type": "code",
   "execution_count": 58,
   "metadata": {},
   "outputs": [
    {
     "data": {
      "text/plain": [
       "year\n",
       "1911    231\n",
       "1912    555\n",
       "1913    670\n",
       "1914    692\n",
       "1915    658\n",
       "       ... \n",
       "1991    705\n",
       "1992    707\n",
       "1993    701\n",
       "1994    705\n",
       "1995    705\n",
       "Name: water_level, Length: 85, dtype: int64"
      ]
     },
     "execution_count": 58,
     "metadata": {},
     "output_type": "execute_result"
    }
   ],
   "source": [
    "all_low_days = df.loc[df.is_high_tide==0].groupby('year').count()['water_level']\n",
    "all_low_days"
   ]
  },
  {
   "cell_type": "code",
   "execution_count": 59,
   "metadata": {},
   "outputs": [
    {
     "data": {
      "text/plain": [
       "year\n",
       "1911     47\n",
       "1912    107\n",
       "1913     69\n",
       "1914     98\n",
       "1915     92\n",
       "       ... \n",
       "1991    220\n",
       "1992    188\n",
       "1993    177\n",
       "1994    178\n",
       "1995    174\n",
       "Name: water_level, Length: 85, dtype: int64"
      ]
     },
     "execution_count": 59,
     "metadata": {},
     "output_type": "execute_result"
    }
   ],
   "source": [
    "low_25_days = df.loc[df.water_level<tide_low.quantile(0.25)].groupby('year').count().water_level\n",
    "low_25_days"
   ]
  },
  {
   "cell_type": "code",
   "execution_count": 60,
   "metadata": {},
   "outputs": [
    {
     "data": {
      "text/html": [
       "<div>\n",
       "<style scoped>\n",
       "    .dataframe tbody tr th:only-of-type {\n",
       "        vertical-align: middle;\n",
       "    }\n",
       "\n",
       "    .dataframe tbody tr th {\n",
       "        vertical-align: top;\n",
       "    }\n",
       "\n",
       "    .dataframe thead th {\n",
       "        text-align: right;\n",
       "    }\n",
       "</style>\n",
       "<table border=\"1\" class=\"dataframe\">\n",
       "  <thead>\n",
       "    <tr style=\"text-align: right;\">\n",
       "      <th></th>\n",
       "      <th>year</th>\n",
       "      <th>water_level</th>\n",
       "    </tr>\n",
       "  </thead>\n",
       "  <tbody>\n",
       "    <tr>\n",
       "      <th>0</th>\n",
       "      <td>1911</td>\n",
       "      <td>0.203463</td>\n",
       "    </tr>\n",
       "    <tr>\n",
       "      <th>1</th>\n",
       "      <td>1912</td>\n",
       "      <td>0.192793</td>\n",
       "    </tr>\n",
       "    <tr>\n",
       "      <th>2</th>\n",
       "      <td>1913</td>\n",
       "      <td>0.102985</td>\n",
       "    </tr>\n",
       "    <tr>\n",
       "      <th>3</th>\n",
       "      <td>1914</td>\n",
       "      <td>0.141618</td>\n",
       "    </tr>\n",
       "    <tr>\n",
       "      <th>4</th>\n",
       "      <td>1915</td>\n",
       "      <td>0.139818</td>\n",
       "    </tr>\n",
       "    <tr>\n",
       "      <th>...</th>\n",
       "      <td>...</td>\n",
       "      <td>...</td>\n",
       "    </tr>\n",
       "    <tr>\n",
       "      <th>80</th>\n",
       "      <td>1991</td>\n",
       "      <td>0.312057</td>\n",
       "    </tr>\n",
       "    <tr>\n",
       "      <th>81</th>\n",
       "      <td>1992</td>\n",
       "      <td>0.265912</td>\n",
       "    </tr>\n",
       "    <tr>\n",
       "      <th>82</th>\n",
       "      <td>1993</td>\n",
       "      <td>0.252496</td>\n",
       "    </tr>\n",
       "    <tr>\n",
       "      <th>83</th>\n",
       "      <td>1994</td>\n",
       "      <td>0.252482</td>\n",
       "    </tr>\n",
       "    <tr>\n",
       "      <th>84</th>\n",
       "      <td>1995</td>\n",
       "      <td>0.246809</td>\n",
       "    </tr>\n",
       "  </tbody>\n",
       "</table>\n",
       "<p>85 rows × 2 columns</p>\n",
       "</div>"
      ],
      "text/plain": [
       "    year  water_level\n",
       "0   1911     0.203463\n",
       "1   1912     0.192793\n",
       "2   1913     0.102985\n",
       "3   1914     0.141618\n",
       "4   1915     0.139818\n",
       "..   ...          ...\n",
       "80  1991     0.312057\n",
       "81  1992     0.265912\n",
       "82  1993     0.252496\n",
       "83  1994     0.252482\n",
       "84  1995     0.246809\n",
       "\n",
       "[85 rows x 2 columns]"
      ]
     },
     "execution_count": 60,
     "metadata": {},
     "output_type": "execute_result"
    }
   ],
   "source": [
    "low_ratio = (low_25_days/all_low_days).reset_index()\n",
    "low_ratio"
   ]
  },
  {
   "cell_type": "code",
   "execution_count": null,
   "metadata": {},
   "outputs": [],
   "source": []
  }
 ],
 "metadata": {
  "kernelspec": {
   "display_name": "venv",
   "language": "python",
   "name": "python3"
  },
  "language_info": {
   "codemirror_mode": {
    "name": "ipython",
    "version": 3
   },
   "file_extension": ".py",
   "mimetype": "text/x-python",
   "name": "python",
   "nbconvert_exporter": "python",
   "pygments_lexer": "ipython3",
   "version": "3.11.0"
  },
  "orig_nbformat": 4,
  "vscode": {
   "interpreter": {
    "hash": "b56102e69f978b9d9eb581d737c7d835de3b67b03c7af637c3b4cd0cef8a3a3b"
   }
  }
 },
 "nbformat": 4,
 "nbformat_minor": 2
}
